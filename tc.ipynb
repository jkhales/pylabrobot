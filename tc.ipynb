{
 "cells": [
  {
   "cell_type": "code",
   "execution_count": 1,
   "metadata": {},
   "outputs": [],
   "source": [
    "%load_ext autoreload\n",
    "%autoreload 2"
   ]
  },
  {
   "cell_type": "code",
   "execution_count": 2,
   "metadata": {},
   "outputs": [],
   "source": [
    "from tc import ThermoCycler\n",
    "tc = ThermoCycler(ip=\"169.254.151.99\")\n",
    "# res = tc.open_door()"
   ]
  },
  {
   "cell_type": "code",
   "execution_count": null,
   "metadata": {},
   "outputs": [],
   "source": []
  },
  {
   "cell_type": "code",
   "execution_count": 82,
   "metadata": {},
   "outputs": [
    {
     "name": "stdout",
     "output_type": "stream",
     "text": [
      "<?xml version=\"1.0\" ?>\n",
      "<PreMethod methodName=\"method 1\" creator=\"inheco\" description=\"\" dateTime=\"2024-09-30T15:06:58.076708\">\n",
      "  <TargetBlockTemperature>20</TargetBlockTemperature>\n",
      "  <TargetLidTemperature>110</TargetLidTemperature>\n",
      "</PreMethod>\n",
      "\n"
     ]
    }
   ],
   "source": [
    "# Example usage with PreMethod and Method dataclass\n",
    "from datetime import datetime\n",
    "\n",
    "import xml\n",
    "from tc import MetaData, Method, MethodStep, PIDMember, PreMethod, _serialize_dataclass_to_xml, dataclass_to_xml\n",
    "import xml.etree.ElementTree as ET\n",
    "\n",
    "\n",
    "metadata = MetaData(method_name=\"method 1\", creator=\"inheco\")\n",
    "pre_method = PreMethod(target_block_temperature=20, target_lid_temperature=110, metadata=metadata)\n",
    "\n",
    "method_steps = [\n",
    "    MethodStep(number=1, slope=4.4, plateau_temperature=95, plateau_time=60, over_shoot_slope_1=4.4, over_shoot_temperature=5, over_shoot_time=0, over_shoot_slope_2=2.2, goto_number=0, loop_number=0, pid_number=1, lid_temp=110),\n",
    "    # Add more MethodStep instances as needed\n",
    "]\n",
    "\n",
    "pid_members = [\n",
    "    PIDMember(number=\"1\", p_heating=60, p_cooling=80, i_heating=250, i_cooling=100, d_heating=10, d_cooling=10, p_lid=100, i_lid=70)\n",
    "]\n",
    "\n",
    "method = Method(variant=960000, plate_type=0, fluid_quantity=0, post_heating=False, start_block_temperature=20, start_lid_temperature=110, steps=method_steps, pid_set=pid_members)\n",
    "\n",
    "# Serialize to XML\n",
    "# asdf = dataclass_to_xml(pre_method, \"PreMethod\", metadata)\n",
    "asdf = dataclass_to_xml(method, \"Method\")\n",
    "# asdf = ET.tostring(pre_method.to_xml())\n",
    "\n",
    "\n",
    "# Output the XML strings\n",
    "dom = xml.dom.minidom.parseString(asdf)\n",
    "pretty_xml = dom.toprettyxml(indent=\"  \")  # Using 2 spaces for indentation\n",
    "print( pretty_xml)\n",
    "# print(method_xml)\n",
    "\n",
    "# print(metadata.to_dict())\n"
   ]
  },
  {
   "cell_type": "code",
   "execution_count": 10,
   "metadata": {},
   "outputs": [
    {
     "data": {
      "text/plain": [
       "<Response [200]>"
      ]
     },
     "execution_count": 10,
     "metadata": {},
     "output_type": "execute_result"
    }
   ],
   "source": [
    "await tc.stop()"
   ]
  },
  {
   "cell_type": "code",
   "execution_count": 4,
   "metadata": {},
   "outputs": [
    {
     "data": {
      "text/plain": [
       "200"
      ]
     },
     "execution_count": 4,
     "metadata": {},
     "output_type": "execute_result"
    }
   ],
   "source": [
    "res = await tc.close_door()\n",
    "res.status_code"
   ]
  },
  {
   "cell_type": "code",
   "execution_count": null,
   "metadata": {},
   "outputs": [],
   "source": [
    "# http && !(http contains \"GetStatus\") && !(http contains \"Continue\")\n"
   ]
  },
  {
   "cell_type": "code",
   "execution_count": null,
   "metadata": {},
   "outputs": [],
   "source": [
    "import xml.etree.ElementTree as ET\n",
    "import time\n",
    "namespaces = {\n",
    "    'SOAP-ENV': 'http://schemas.xmlsoap.org/soap/envelope/',\n",
    "    's': 'http://sila.coop'\n",
    "}\n",
    "\n",
    "for i in range(30):\n",
    "  print(\"wait \",i)\n",
    "  time.sleep(1)\n",
    "  a =tc.get_status1()\n",
    "  root = ET.fromstring(a.text)\n",
    "  print(root.find('.//s:state', namespaces).text)"
   ]
  },
  {
   "cell_type": "code",
   "execution_count": 9,
   "metadata": {},
   "outputs": [
    {
     "data": {
      "text/plain": [
       "<DeviceState.BUSY: 'busy'>"
      ]
     },
     "execution_count": 9,
     "metadata": {},
     "output_type": "execute_result"
    }
   ],
   "source": [
    "await tc.get_state()"
   ]
  },
  {
   "cell_type": "code",
   "execution_count": null,
   "metadata": {},
   "outputs": [],
   "source": []
  },
  {
   "cell_type": "code",
   "execution_count": null,
   "metadata": {},
   "outputs": [],
   "source": [
    "tc.close_door()"
   ]
  },
  {
   "cell_type": "code",
   "execution_count": null,
   "metadata": {},
   "outputs": [],
   "source": [
    "import requests\n",
    "# POST / HTTP/1.1\n",
    "# Content-Type: text/xml; charset=utf-8\n",
    "# SOAPAction: \"http://sila.coop/CloseDoor\"\n",
    "# Host: 169.254.245.237:8080\n",
    "# Content-Length: 249\n",
    "# Expect: 100-continue\n",
    "\n",
    "requests.post(\"http://10.8.8.1:8080/\",\n",
    "              data='<s:Envelope xmlns:s=\"http://schemas.xmlsoap.org/soap/envelope/\"><s:Body><OpenDoor xmlns=\"http://sila.coop\" xmlns:i=\"http://www.w3.org/2001/XMLSchema-instance\"><requestId>1579489236</requestId><lockId i:nil=\"true\"/></OpenDoor></s:Body></s:Envelope>',\n",
    "              headers={\"Content-Type\": \"text/xml; charset=utf-8\",\n",
    "                        \"SOAPAction\": \"http://sila.coop/OpenDoor\",\n",
    "                        \"Host\": \"10.8.8.1:8080\",\n",
    "              }, timeout=1).text"
   ]
  },
  {
   "cell_type": "code",
   "execution_count": null,
   "metadata": {},
   "outputs": [],
   "source": []
  }
 ],
 "metadata": {
  "kernelspec": {
   "display_name": "env",
   "language": "python",
   "name": "python3"
  },
  "language_info": {
   "codemirror_mode": {
    "name": "ipython",
    "version": 3
   },
   "file_extension": ".py",
   "mimetype": "text/x-python",
   "name": "python",
   "nbconvert_exporter": "python",
   "pygments_lexer": "ipython3",
   "version": "3.12.4"
  }
 },
 "nbformat": 4,
 "nbformat_minor": 2
}
