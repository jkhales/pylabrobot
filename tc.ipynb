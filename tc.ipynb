{
 "cells": [
  {
   "cell_type": "code",
   "execution_count": 1,
   "metadata": {},
   "outputs": [],
   "source": [
    "%load_ext autoreload\n",
    "%autoreload 2"
   ]
  },
  {
   "cell_type": "code",
   "execution_count": 2,
   "metadata": {},
   "outputs": [
    {
     "name": "stdout",
     "output_type": "stream",
     "text": [
      "<s:Envelope xmlns:s=\"http://schemas.xmlsoap.org/soap/envelope/\"> <s:Body> <OpenDoor xmlns=\"http://sila.coop\" xmlns:i=\"http://www.w3.org/2001/XMLSchema-instance\"> <requestId>980077707</requestId> <lockId i:nil=\"true\"/> </OpenDoor> </s:Body> </s:Envelope>\n",
      "<?xml version=\"1.0\" encoding=\"UTF-8\"?>\n",
      "<SOAP-ENV:Envelope xmlns:SOAP-ENV=\"http://schemas.xmlsoap.org/soap/envelope/\" xmlns:SOAP-ENC=\"http://schemas.xmlsoap.org/soap/encoding/\" xmlns:xsi=\"http://www.w3.org/2001/XMLSchema-instance\" xmlns:xsd=\"http://www.w3.org/2001/XMLSchema\" xmlns:i=\"http://inheco.com\" xmlns:s=\"http://sila.coop\"><SOAP-ENV:Body><s:OpenDoorResponse><s:OpenDoorResult><s:returnCode>2</s:returnCode><s:message>Asynchronous command accepted.</s:message><s:duration>PT14S</s:duration><s:deviceClass>30</s:deviceClass></s:OpenDoorResult></s:OpenDoorResponse></SOAP-ENV:Body></SOAP-ENV:Envelope>\n",
      "\n"
     ]
    }
   ],
   "source": [
    "from tc import ThermoCycler\n",
    "tc = ThermoCycler(ip=\"169.254.151.99\")\n",
    "res = tc.open_door()"
   ]
  },
  {
   "cell_type": "code",
   "execution_count": null,
   "metadata": {},
   "outputs": [],
   "source": []
  },
  {
   "cell_type": "code",
   "execution_count": 10,
   "metadata": {},
   "outputs": [
    {
     "data": {
      "text/plain": [
       "<Response [200]>"
      ]
     },
     "execution_count": 10,
     "metadata": {},
     "output_type": "execute_result"
    }
   ],
   "source": [
    "await tc.open_door()"
   ]
  },
  {
   "cell_type": "code",
   "execution_count": null,
   "metadata": {},
   "outputs": [],
   "source": [
    "res = tc.close_door()\n",
    "res.status_code"
   ]
  },
  {
   "cell_type": "code",
   "execution_count": null,
   "metadata": {},
   "outputs": [],
   "source": [
    "# http && !(http contains \"GetStatus\") && !(http contains \"Continue\")\n"
   ]
  },
  {
   "cell_type": "code",
   "execution_count": null,
   "metadata": {},
   "outputs": [],
   "source": [
    "import xml.etree.ElementTree as ET\n",
    "import time\n",
    "namespaces = {\n",
    "    'SOAP-ENV': 'http://schemas.xmlsoap.org/soap/envelope/',\n",
    "    's': 'http://sila.coop'\n",
    "}\n",
    "\n",
    "for i in range(30):\n",
    "  print(\"wait \",i)\n",
    "  time.sleep(1)\n",
    "  a =tc.get_status1()\n",
    "  root = ET.fromstring(a.text)\n",
    "  print(root.find('.//s:state', namespaces).text)"
   ]
  },
  {
   "cell_type": "code",
   "execution_count": 3,
   "metadata": {},
   "outputs": [
    {
     "name": "stdout",
     "output_type": "stream",
     "text": [
      "<s:Envelope xmlns:s=\"http://schemas.xmlsoap.org/soap/envelope/\"> <s:Body> <GetStatus xmlns=\"http://sila.coop\" xmlns:i=\"http://www.w3.org/2001/XMLSchema-instance\"> <requestId>980077708</requestId> <lockId i:nil=\"true\"/> </GetStatus> </s:Body> </s:Envelope>\n",
      "<?xml version=\"1.0\" encoding=\"UTF-8\"?>\n",
      "<SOAP-ENV:Envelope xmlns:SOAP-ENV=\"http://schemas.xmlsoap.org/soap/envelope/\" xmlns:SOAP-ENC=\"http://schemas.xmlsoap.org/soap/encoding/\" xmlns:xsi=\"http://www.w3.org/2001/XMLSchema-instance\" xmlns:xsd=\"http://www.w3.org/2001/XMLSchema\" xmlns:i=\"http://inheco.com\" xmlns:s=\"http://sila.coop\"><SOAP-ENV:Body><s:GetStatusResponse><s:GetStatusResult><s:returnCode>1</s:returnCode><s:message>Success.</s:message><s:duration>PT1S</s:duration><s:deviceClass>30</s:deviceClass></s:GetStatusResult><s:deviceId>97122c37-ab8b-4072-89aa-53f9715e0d3a</s:deviceId><s:state>idle</s:state><s:subStates xsi:nil=\"true\"/><s:locked>false</s:locked><s:PMSId>http://169.254.193.225:7071/ihc</s:PMSId><s:currentTime>2024-09-26T16:40:31Z</s:currentTime></s:GetStatusResponse></SOAP-ENV:Body></SOAP-ENV:Envelope>\n",
      "\n"
     ]
    },
    {
     "data": {
      "text/plain": [
       "<DeviceStatus.IDLE: 'idle'>"
      ]
     },
     "execution_count": 3,
     "metadata": {},
     "output_type": "execute_result"
    }
   ],
   "source": [
    "tc.get_state()"
   ]
  },
  {
   "cell_type": "code",
   "execution_count": null,
   "metadata": {},
   "outputs": [],
   "source": []
  },
  {
   "cell_type": "code",
   "execution_count": null,
   "metadata": {},
   "outputs": [],
   "source": [
    "tc.close_door()"
   ]
  },
  {
   "cell_type": "code",
   "execution_count": null,
   "metadata": {},
   "outputs": [],
   "source": [
    "import requests\n",
    "# POST / HTTP/1.1\n",
    "# Content-Type: text/xml; charset=utf-8\n",
    "# SOAPAction: \"http://sila.coop/CloseDoor\"\n",
    "# Host: 169.254.245.237:8080\n",
    "# Content-Length: 249\n",
    "# Expect: 100-continue\n",
    "\n",
    "requests.post(\"http://10.8.8.1:8080/\",\n",
    "              data='<s:Envelope xmlns:s=\"http://schemas.xmlsoap.org/soap/envelope/\"><s:Body><OpenDoor xmlns=\"http://sila.coop\" xmlns:i=\"http://www.w3.org/2001/XMLSchema-instance\"><requestId>1579489236</requestId><lockId i:nil=\"true\"/></OpenDoor></s:Body></s:Envelope>',\n",
    "              headers={\"Content-Type\": \"text/xml; charset=utf-8\",\n",
    "                        \"SOAPAction\": \"http://sila.coop/OpenDoor\",\n",
    "                        \"Host\": \"10.8.8.1:8080\",\n",
    "              }, timeout=1).text"
   ]
  },
  {
   "cell_type": "code",
   "execution_count": null,
   "metadata": {},
   "outputs": [],
   "source": []
  }
 ],
 "metadata": {
  "kernelspec": {
   "display_name": "env",
   "language": "python",
   "name": "python3"
  },
  "language_info": {
   "codemirror_mode": {
    "name": "ipython",
    "version": 3
   },
   "file_extension": ".py",
   "mimetype": "text/x-python",
   "name": "python",
   "nbconvert_exporter": "python",
   "pygments_lexer": "ipython3",
   "version": "3.12.4"
  }
 },
 "nbformat": 4,
 "nbformat_minor": 2
}
